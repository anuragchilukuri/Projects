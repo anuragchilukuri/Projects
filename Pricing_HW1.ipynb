{
 "cells": [
  {
   "cell_type": "code",
   "execution_count": 1,
   "metadata": {
    "collapsed": true
   },
   "outputs": [],
   "source": [
    "import pandas as pd\n",
    "import numpy as np\n"
   ]
  },
  {
   "cell_type": "code",
   "execution_count": 42,
   "metadata": {
    "collapsed": false
   },
   "outputs": [],
   "source": [
    "from statsmodels.regression.linear_model import OLS"
   ]
  },
  {
   "cell_type": "code",
   "execution_count": 39,
   "metadata": {
    "collapsed": false
   },
   "outputs": [],
   "source": [
    "hw1_4 = pd.read_excel('HW1 part4.xlsx','Sheet1')"
   ]
  },
  {
   "cell_type": "code",
   "execution_count": 40,
   "metadata": {
    "collapsed": false
   },
   "outputs": [],
   "source": [
    "hw1_4_cmm = hw1_4[hw1_4['brand: CMMi (brand 1) / Knights & Schoening (brand 2)']==1]"
   ]
  },
  {
   "cell_type": "code",
   "execution_count": 44,
   "metadata": {
    "collapsed": false
   },
   "outputs": [],
   "source": [
    "lin_model=OLS(hw1_4_cmm.iloc[:,2],hw1_4_cmm.iloc[:,3:])"
   ]
  },
  {
   "cell_type": "code",
   "execution_count": 46,
   "metadata": {
    "collapsed": false
   },
   "outputs": [],
   "source": [
    "results = lin_model.fit()"
   ]
  },
  {
   "cell_type": "code",
   "execution_count": 50,
   "metadata": {
    "collapsed": false
   },
   "outputs": [
    {
     "name": "stdout",
     "output_type": "stream",
     "text": [
      "Populating the interactive namespace from numpy and matplotlib\n"
     ]
    },
    {
     "data": {
      "text/plain": [
       "information provided with product      -0.066876\n",
       "longevity of products                   0.030062\n",
       "performance of products                 0.229967\n",
       "features of products                   -0.100305\n",
       "price of products                       0.304713\n",
       "ease of use of products                 0.162691\n",
       "reliability of products                 0.066556\n",
       "documentation provided with products    0.088070\n",
       "operating costs of products            -0.110113\n",
       "delivery time of orders                 0.393429\n",
       "response time of customer support      -0.022781\n",
       "expertise of customer support          -0.006933\n",
       "dtype: float64"
      ]
     },
     "execution_count": 50,
     "metadata": {},
     "output_type": "execute_result"
    }
   ],
   "source": [
    "from matplotlib import pyplot as plt\n",
    "%pylab inline\n",
    "results.params"
   ]
  },
  {
   "cell_type": "code",
   "execution_count": 51,
   "metadata": {
    "collapsed": false
   },
   "outputs": [
    {
     "data": {
      "text/plain": [
       "information provided with product       1.529952e-01\n",
       "longevity of products                   5.899448e-01\n",
       "performance of products                 3.656808e-06\n",
       "features of products                    4.374881e-02\n",
       "price of products                       3.547312e-07\n",
       "ease of use of products                 1.286661e-03\n",
       "reliability of products                 2.861134e-01\n",
       "documentation provided with products    6.805819e-02\n",
       "operating costs of products             2.325550e-02\n",
       "delivery time of orders                 1.661835e-13\n",
       "response time of customer support       5.930610e-01\n",
       "expertise of customer support           8.829104e-01\n",
       "dtype: float64"
      ]
     },
     "execution_count": 51,
     "metadata": {},
     "output_type": "execute_result"
    }
   ],
   "source": [
    "results.pvalues"
   ]
  },
  {
   "cell_type": "code",
   "execution_count": 67,
   "metadata": {
    "collapsed": false
   },
   "outputs": [
    {
     "data": {
      "text/html": [
       "<div>\n",
       "<table border=\"1\" class=\"dataframe\">\n",
       "  <thead>\n",
       "    <tr style=\"text-align: right;\">\n",
       "      <th></th>\n",
       "      <th>Coefficients</th>\n",
       "      <th>Significance</th>\n",
       "      <th>Updated_Coefficients</th>\n",
       "    </tr>\n",
       "  </thead>\n",
       "  <tbody>\n",
       "    <tr>\n",
       "      <th>information provided with product</th>\n",
       "      <td>-0.066876</td>\n",
       "      <td>1.529952e-01</td>\n",
       "      <td>-0.066876</td>\n",
       "    </tr>\n",
       "    <tr>\n",
       "      <th>longevity of products</th>\n",
       "      <td>0.030062</td>\n",
       "      <td>5.899448e-01</td>\n",
       "      <td>0.030062</td>\n",
       "    </tr>\n",
       "    <tr>\n",
       "      <th>performance of products</th>\n",
       "      <td>0.229967</td>\n",
       "      <td>3.656808e-06</td>\n",
       "      <td>0.000000</td>\n",
       "    </tr>\n",
       "    <tr>\n",
       "      <th>features of products</th>\n",
       "      <td>-0.100305</td>\n",
       "      <td>4.374881e-02</td>\n",
       "      <td>0.000000</td>\n",
       "    </tr>\n",
       "    <tr>\n",
       "      <th>price of products</th>\n",
       "      <td>0.304713</td>\n",
       "      <td>3.547312e-07</td>\n",
       "      <td>0.000000</td>\n",
       "    </tr>\n",
       "    <tr>\n",
       "      <th>ease of use of products</th>\n",
       "      <td>0.162691</td>\n",
       "      <td>1.286661e-03</td>\n",
       "      <td>0.000000</td>\n",
       "    </tr>\n",
       "    <tr>\n",
       "      <th>reliability of products</th>\n",
       "      <td>0.066556</td>\n",
       "      <td>2.861134e-01</td>\n",
       "      <td>0.066556</td>\n",
       "    </tr>\n",
       "    <tr>\n",
       "      <th>documentation provided with products</th>\n",
       "      <td>0.088070</td>\n",
       "      <td>6.805819e-02</td>\n",
       "      <td>0.088070</td>\n",
       "    </tr>\n",
       "    <tr>\n",
       "      <th>operating costs of products</th>\n",
       "      <td>-0.110113</td>\n",
       "      <td>2.325550e-02</td>\n",
       "      <td>0.000000</td>\n",
       "    </tr>\n",
       "    <tr>\n",
       "      <th>delivery time of orders</th>\n",
       "      <td>0.393429</td>\n",
       "      <td>1.661835e-13</td>\n",
       "      <td>0.000000</td>\n",
       "    </tr>\n",
       "    <tr>\n",
       "      <th>response time of customer support</th>\n",
       "      <td>-0.022781</td>\n",
       "      <td>5.930610e-01</td>\n",
       "      <td>-0.022781</td>\n",
       "    </tr>\n",
       "    <tr>\n",
       "      <th>expertise of customer support</th>\n",
       "      <td>-0.006933</td>\n",
       "      <td>8.829104e-01</td>\n",
       "      <td>-0.006933</td>\n",
       "    </tr>\n",
       "  </tbody>\n",
       "</table>\n",
       "</div>"
      ],
      "text/plain": [
       "                                      Coefficients  Significance  \\\n",
       "information provided with product        -0.066876  1.529952e-01   \n",
       "longevity of products                     0.030062  5.899448e-01   \n",
       "performance of products                   0.229967  3.656808e-06   \n",
       "features of products                     -0.100305  4.374881e-02   \n",
       "price of products                         0.304713  3.547312e-07   \n",
       "ease of use of products                   0.162691  1.286661e-03   \n",
       "reliability of products                   0.066556  2.861134e-01   \n",
       "documentation provided with products      0.088070  6.805819e-02   \n",
       "operating costs of products              -0.110113  2.325550e-02   \n",
       "delivery time of orders                   0.393429  1.661835e-13   \n",
       "response time of customer support        -0.022781  5.930610e-01   \n",
       "expertise of customer support            -0.006933  8.829104e-01   \n",
       "\n",
       "                                      Updated_Coefficients  \n",
       "information provided with product                -0.066876  \n",
       "longevity of products                             0.030062  \n",
       "performance of products                           0.000000  \n",
       "features of products                              0.000000  \n",
       "price of products                                 0.000000  \n",
       "ease of use of products                           0.000000  \n",
       "reliability of products                           0.066556  \n",
       "documentation provided with products              0.088070  \n",
       "operating costs of products                       0.000000  \n",
       "delivery time of orders                           0.000000  \n",
       "response time of customer support                -0.022781  \n",
       "expertise of customer support                    -0.006933  "
      ]
     },
     "execution_count": 67,
     "metadata": {},
     "output_type": "execute_result"
    }
   ],
   "source": [
    "results_df = pd.concat([results.params,results.pvalues],axis=1)\n",
    "results_df.columns = ['Coefficients','Significance']\n",
    "\n",
    "results_df['Updated_Coefficients'] = results_df.apply(lambda x : 0 if x['Significance']<0.05 else x['Coefficients'],axis=1)\n",
    "results_df"
   ]
  },
  {
   "cell_type": "code",
   "execution_count": 66,
   "metadata": {
    "collapsed": false
   },
   "outputs": [
    {
     "data": {
      "text/html": [
       "<div>\n",
       "<table border=\"1\" class=\"dataframe\">\n",
       "  <thead>\n",
       "    <tr style=\"text-align: right;\">\n",
       "      <th></th>\n",
       "      <th>Coefficients</th>\n",
       "      <th>Significance</th>\n",
       "    </tr>\n",
       "  </thead>\n",
       "  <tbody>\n",
       "    <tr>\n",
       "      <th>information provided with product</th>\n",
       "      <td>-0.066876</td>\n",
       "      <td>1.529952e-01</td>\n",
       "    </tr>\n",
       "    <tr>\n",
       "      <th>longevity of products</th>\n",
       "      <td>0.030062</td>\n",
       "      <td>5.899448e-01</td>\n",
       "    </tr>\n",
       "    <tr>\n",
       "      <th>performance of products</th>\n",
       "      <td>0.229967</td>\n",
       "      <td>3.656808e-06</td>\n",
       "    </tr>\n",
       "    <tr>\n",
       "      <th>features of products</th>\n",
       "      <td>-0.100305</td>\n",
       "      <td>4.374881e-02</td>\n",
       "    </tr>\n",
       "    <tr>\n",
       "      <th>price of products</th>\n",
       "      <td>0.304713</td>\n",
       "      <td>3.547312e-07</td>\n",
       "    </tr>\n",
       "    <tr>\n",
       "      <th>ease of use of products</th>\n",
       "      <td>0.162691</td>\n",
       "      <td>1.286661e-03</td>\n",
       "    </tr>\n",
       "    <tr>\n",
       "      <th>reliability of products</th>\n",
       "      <td>0.066556</td>\n",
       "      <td>2.861134e-01</td>\n",
       "    </tr>\n",
       "    <tr>\n",
       "      <th>documentation provided with products</th>\n",
       "      <td>0.088070</td>\n",
       "      <td>6.805819e-02</td>\n",
       "    </tr>\n",
       "    <tr>\n",
       "      <th>operating costs of products</th>\n",
       "      <td>-0.110113</td>\n",
       "      <td>2.325550e-02</td>\n",
       "    </tr>\n",
       "    <tr>\n",
       "      <th>delivery time of orders</th>\n",
       "      <td>0.393429</td>\n",
       "      <td>1.661835e-13</td>\n",
       "    </tr>\n",
       "    <tr>\n",
       "      <th>response time of customer support</th>\n",
       "      <td>-0.022781</td>\n",
       "      <td>5.930610e-01</td>\n",
       "    </tr>\n",
       "    <tr>\n",
       "      <th>expertise of customer support</th>\n",
       "      <td>-0.006933</td>\n",
       "      <td>8.829104e-01</td>\n",
       "    </tr>\n",
       "  </tbody>\n",
       "</table>\n",
       "</div>"
      ],
      "text/plain": [
       "                                      Coefficients  Significance\n",
       "information provided with product        -0.066876  1.529952e-01\n",
       "longevity of products                     0.030062  5.899448e-01\n",
       "performance of products                   0.229967  3.656808e-06\n",
       "features of products                     -0.100305  4.374881e-02\n",
       "price of products                         0.304713  3.547312e-07\n",
       "ease of use of products                   0.162691  1.286661e-03\n",
       "reliability of products                   0.066556  2.861134e-01\n",
       "documentation provided with products      0.088070  6.805819e-02\n",
       "operating costs of products              -0.110113  2.325550e-02\n",
       "delivery time of orders                   0.393429  1.661835e-13\n",
       "response time of customer support        -0.022781  5.930610e-01\n",
       "expertise of customer support            -0.006933  8.829104e-01"
      ]
     },
     "execution_count": 66,
     "metadata": {},
     "output_type": "execute_result"
    }
   ],
   "source": [
    "results_df"
   ]
  },
  {
   "cell_type": "code",
   "execution_count": 85,
   "metadata": {
    "collapsed": false
   },
   "outputs": [],
   "source": [
    "cmm_performance = hw1_4_cmm.iloc[:,2:].mean()"
   ]
  },
  {
   "cell_type": "code",
   "execution_count": 88,
   "metadata": {
    "collapsed": false
   },
   "outputs": [
    {
     "data": {
      "text/html": [
       "<div>\n",
       "<table border=\"1\" class=\"dataframe\">\n",
       "  <thead>\n",
       "    <tr style=\"text-align: right;\">\n",
       "      <th></th>\n",
       "      <th>Coefficients</th>\n",
       "      <th>Significance</th>\n",
       "      <th>Updated_Coefficients</th>\n",
       "    </tr>\n",
       "  </thead>\n",
       "  <tbody>\n",
       "    <tr>\n",
       "      <th>information provided with product</th>\n",
       "      <td>-0.066876</td>\n",
       "      <td>1.529952e-01</td>\n",
       "      <td>-0.066876</td>\n",
       "    </tr>\n",
       "    <tr>\n",
       "      <th>longevity of products</th>\n",
       "      <td>0.030062</td>\n",
       "      <td>5.899448e-01</td>\n",
       "      <td>0.030062</td>\n",
       "    </tr>\n",
       "    <tr>\n",
       "      <th>performance of products</th>\n",
       "      <td>0.229967</td>\n",
       "      <td>3.656808e-06</td>\n",
       "      <td>0.000000</td>\n",
       "    </tr>\n",
       "    <tr>\n",
       "      <th>features of products</th>\n",
       "      <td>-0.100305</td>\n",
       "      <td>4.374881e-02</td>\n",
       "      <td>0.000000</td>\n",
       "    </tr>\n",
       "    <tr>\n",
       "      <th>price of products</th>\n",
       "      <td>0.304713</td>\n",
       "      <td>3.547312e-07</td>\n",
       "      <td>0.000000</td>\n",
       "    </tr>\n",
       "    <tr>\n",
       "      <th>ease of use of products</th>\n",
       "      <td>0.162691</td>\n",
       "      <td>1.286661e-03</td>\n",
       "      <td>0.000000</td>\n",
       "    </tr>\n",
       "    <tr>\n",
       "      <th>reliability of products</th>\n",
       "      <td>0.066556</td>\n",
       "      <td>2.861134e-01</td>\n",
       "      <td>0.066556</td>\n",
       "    </tr>\n",
       "    <tr>\n",
       "      <th>documentation provided with products</th>\n",
       "      <td>0.088070</td>\n",
       "      <td>6.805819e-02</td>\n",
       "      <td>0.088070</td>\n",
       "    </tr>\n",
       "    <tr>\n",
       "      <th>operating costs of products</th>\n",
       "      <td>-0.110113</td>\n",
       "      <td>2.325550e-02</td>\n",
       "      <td>0.000000</td>\n",
       "    </tr>\n",
       "    <tr>\n",
       "      <th>delivery time of orders</th>\n",
       "      <td>0.393429</td>\n",
       "      <td>1.661835e-13</td>\n",
       "      <td>0.000000</td>\n",
       "    </tr>\n",
       "    <tr>\n",
       "      <th>response time of customer support</th>\n",
       "      <td>-0.022781</td>\n",
       "      <td>5.930610e-01</td>\n",
       "      <td>-0.022781</td>\n",
       "    </tr>\n",
       "    <tr>\n",
       "      <th>expertise of customer support</th>\n",
       "      <td>-0.006933</td>\n",
       "      <td>8.829104e-01</td>\n",
       "      <td>-0.006933</td>\n",
       "    </tr>\n",
       "  </tbody>\n",
       "</table>\n",
       "</div>"
      ],
      "text/plain": [
       "                                      Coefficients  Significance  \\\n",
       "information provided with product        -0.066876  1.529952e-01   \n",
       "longevity of products                     0.030062  5.899448e-01   \n",
       "performance of products                   0.229967  3.656808e-06   \n",
       "features of products                     -0.100305  4.374881e-02   \n",
       "price of products                         0.304713  3.547312e-07   \n",
       "ease of use of products                   0.162691  1.286661e-03   \n",
       "reliability of products                   0.066556  2.861134e-01   \n",
       "documentation provided with products      0.088070  6.805819e-02   \n",
       "operating costs of products              -0.110113  2.325550e-02   \n",
       "delivery time of orders                   0.393429  1.661835e-13   \n",
       "response time of customer support        -0.022781  5.930610e-01   \n",
       "expertise of customer support            -0.006933  8.829104e-01   \n",
       "\n",
       "                                      Updated_Coefficients  \n",
       "information provided with product                -0.066876  \n",
       "longevity of products                             0.030062  \n",
       "performance of products                           0.000000  \n",
       "features of products                              0.000000  \n",
       "price of products                                 0.000000  \n",
       "ease of use of products                           0.000000  \n",
       "reliability of products                           0.066556  \n",
       "documentation provided with products              0.088070  \n",
       "operating costs of products                       0.000000  \n",
       "delivery time of orders                           0.000000  \n",
       "response time of customer support                -0.022781  \n",
       "expertise of customer support                    -0.006933  "
      ]
     },
     "execution_count": 88,
     "metadata": {},
     "output_type": "execute_result"
    }
   ],
   "source": [
    "results_df"
   ]
  },
  {
   "cell_type": "code",
   "execution_count": 101,
   "metadata": {
    "collapsed": false
   },
   "outputs": [
    {
     "data": {
      "text/html": [
       "<div>\n",
       "<table border=\"1\" class=\"dataframe\">\n",
       "  <thead>\n",
       "    <tr style=\"text-align: right;\">\n",
       "      <th></th>\n",
       "      <th>Coefficients</th>\n",
       "      <th>Significance</th>\n",
       "      <th>Updated_Coefficients</th>\n",
       "      <th>Performance</th>\n",
       "    </tr>\n",
       "  </thead>\n",
       "  <tbody>\n",
       "    <tr>\n",
       "      <th>information provided with product</th>\n",
       "      <td>-0.066876</td>\n",
       "      <td>1.529952e-01</td>\n",
       "      <td>-0.066876</td>\n",
       "      <td>3.585</td>\n",
       "    </tr>\n",
       "    <tr>\n",
       "      <th>longevity of products</th>\n",
       "      <td>0.030062</td>\n",
       "      <td>5.899448e-01</td>\n",
       "      <td>0.030062</td>\n",
       "      <td>1.810</td>\n",
       "    </tr>\n",
       "    <tr>\n",
       "      <th>performance of products</th>\n",
       "      <td>0.229967</td>\n",
       "      <td>3.656808e-06</td>\n",
       "      <td>0.000000</td>\n",
       "      <td>2.390</td>\n",
       "    </tr>\n",
       "    <tr>\n",
       "      <th>features of products</th>\n",
       "      <td>-0.100305</td>\n",
       "      <td>4.374881e-02</td>\n",
       "      <td>0.000000</td>\n",
       "      <td>4.030</td>\n",
       "    </tr>\n",
       "    <tr>\n",
       "      <th>price of products</th>\n",
       "      <td>0.304713</td>\n",
       "      <td>3.547312e-07</td>\n",
       "      <td>0.000000</td>\n",
       "      <td>1.745</td>\n",
       "    </tr>\n",
       "    <tr>\n",
       "      <th>ease of use of products</th>\n",
       "      <td>0.162691</td>\n",
       "      <td>1.286661e-03</td>\n",
       "      <td>0.000000</td>\n",
       "      <td>2.185</td>\n",
       "    </tr>\n",
       "    <tr>\n",
       "      <th>reliability of products</th>\n",
       "      <td>0.066556</td>\n",
       "      <td>2.861134e-01</td>\n",
       "      <td>0.066556</td>\n",
       "      <td>1.725</td>\n",
       "    </tr>\n",
       "    <tr>\n",
       "      <th>documentation provided with products</th>\n",
       "      <td>0.088070</td>\n",
       "      <td>6.805819e-02</td>\n",
       "      <td>0.088070</td>\n",
       "      <td>3.990</td>\n",
       "    </tr>\n",
       "    <tr>\n",
       "      <th>operating costs of products</th>\n",
       "      <td>-0.110113</td>\n",
       "      <td>2.325550e-02</td>\n",
       "      <td>0.000000</td>\n",
       "      <td>3.980</td>\n",
       "    </tr>\n",
       "    <tr>\n",
       "      <th>delivery time of orders</th>\n",
       "      <td>0.393429</td>\n",
       "      <td>1.661835e-13</td>\n",
       "      <td>0.000000</td>\n",
       "      <td>3.525</td>\n",
       "    </tr>\n",
       "    <tr>\n",
       "      <th>response time of customer support</th>\n",
       "      <td>-0.022781</td>\n",
       "      <td>5.930610e-01</td>\n",
       "      <td>-0.022781</td>\n",
       "      <td>3.445</td>\n",
       "    </tr>\n",
       "    <tr>\n",
       "      <th>expertise of customer support</th>\n",
       "      <td>-0.006933</td>\n",
       "      <td>8.829104e-01</td>\n",
       "      <td>-0.006933</td>\n",
       "      <td>2.275</td>\n",
       "    </tr>\n",
       "  </tbody>\n",
       "</table>\n",
       "</div>"
      ],
      "text/plain": [
       "                                      Coefficients  Significance  \\\n",
       "information provided with product        -0.066876  1.529952e-01   \n",
       "longevity of products                     0.030062  5.899448e-01   \n",
       "performance of products                   0.229967  3.656808e-06   \n",
       "features of products                     -0.100305  4.374881e-02   \n",
       "price of products                         0.304713  3.547312e-07   \n",
       "ease of use of products                   0.162691  1.286661e-03   \n",
       "reliability of products                   0.066556  2.861134e-01   \n",
       "documentation provided with products      0.088070  6.805819e-02   \n",
       "operating costs of products              -0.110113  2.325550e-02   \n",
       "delivery time of orders                   0.393429  1.661835e-13   \n",
       "response time of customer support        -0.022781  5.930610e-01   \n",
       "expertise of customer support            -0.006933  8.829104e-01   \n",
       "\n",
       "                                      Updated_Coefficients  Performance  \n",
       "information provided with product                -0.066876        3.585  \n",
       "longevity of products                             0.030062        1.810  \n",
       "performance of products                           0.000000        2.390  \n",
       "features of products                              0.000000        4.030  \n",
       "price of products                                 0.000000        1.745  \n",
       "ease of use of products                           0.000000        2.185  \n",
       "reliability of products                           0.066556        1.725  \n",
       "documentation provided with products              0.088070        3.990  \n",
       "operating costs of products                       0.000000        3.980  \n",
       "delivery time of orders                           0.000000        3.525  \n",
       "response time of customer support                -0.022781        3.445  \n",
       "expertise of customer support                    -0.006933        2.275  "
      ]
     },
     "execution_count": 101,
     "metadata": {},
     "output_type": "execute_result"
    }
   ],
   "source": [
    "results_merged = results_df.merge(cmm_performance.to_frame(),left_index=True,right_index=True)\n",
    "results_merged=results_merged.rename(columns={0:'Performance'})\n",
    "results_merged"
   ]
  },
  {
   "cell_type": "code",
   "execution_count": 123,
   "metadata": {
    "collapsed": false
   },
   "outputs": [
    {
     "data": {
      "image/png": "[encoded data removed]",
      "text/plain": [
       "<matplotlib.figure.Figure at 0x10b18ba8>"
      ]
     },
     "metadata": {},
     "output_type": "display_data"
    }
   ],
   "source": [
    "labels = results_merged.index.values\n",
    "x = results_merged['Coefficients'].values\n",
    "y = results_merged['Performance'].values\n",
    "plt.scatter(results_merged['Coefficients'],results_merged['Performance'], s=100 ,marker='o')\n",
    "for label,x,y in zip(labels,x,y):\n",
    "    plt.annotate(label,xy=(x,y),textcoords='offset points', ha='left', va='top')\n",
    "plt.axvline(x.mean(), color='r', linestyle='dashed', linewidth=2)\n",
    "plt.axhline(y.mean(), color='r', linestyle='dashed', linewidth=2)\n",
    "plt.show()"
   ]
  },
  {
   "cell_type": "code",
   "execution_count": null,
   "metadata": {
    "collapsed": true
   },
   "outputs": [],
   "source": []
  }
 ],
 "metadata": {
  "anaconda-cloud": {},
  "kernelspec": {
   "display_name": "Python [Root]",
   "language": "python",
   "name": "Python [Root]"
  },
  "language_info": {
   "codemirror_mode": {
    "name": "ipython",
    "version": 2
   },
   "file_extension": ".py",
   "mimetype": "text/x-python",
   "name": "python",
   "nbconvert_exporter": "python",
   "pygments_lexer": "ipython2",
   "version": "2.7.12"
  }
 },
 "nbformat": 4,
 "nbformat_minor": 0
}
